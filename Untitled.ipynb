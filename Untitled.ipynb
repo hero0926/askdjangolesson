{
 "cells": [
  {
   "cell_type": "code",
   "execution_count": 1,
   "metadata": {},
   "outputs": [
    {
     "data": {
      "text/plain": [
       "blog.models.Post"
      ]
     },
     "execution_count": 1,
     "metadata": {},
     "output_type": "execute_result"
    }
   ],
   "source": [
    "Post"
   ]
  },
  {
   "cell_type": "code",
   "execution_count": 2,
   "metadata": {},
   "outputs": [
    {
     "data": {
      "text/plain": [
       "django.db.models.query.QuerySet"
      ]
     },
     "execution_count": 2,
     "metadata": {},
     "output_type": "execute_result"
    }
   ],
   "source": [
    "Post.objects.all().__class__"
   ]
  },
  {
   "cell_type": "code",
   "execution_count": 3,
   "metadata": {},
   "outputs": [
    {
     "data": {
      "text/plain": [
       "<QuerySet [<Post: ㄴㅇㅁㄹ>, <Post: 안녕?>, <Post: 뉴스>]>"
      ]
     },
     "execution_count": 3,
     "metadata": {},
     "output_type": "execute_result"
    }
   ],
   "source": [
    "Post.objects.all().order_by('-id')[:10]"
   ]
  },
  {
   "cell_type": "code",
   "execution_count": 4,
   "metadata": {},
   "outputs": [
    {
     "data": {
      "text/plain": [
       "{'sql': 'SELECT \"blog_post\".\"id\", \"blog_post\".\"author\", \"blog_post\".\"title\", \"blog_post\".\"content\", \"blog_post\".\"tags\", \"blog_post\".\"lnglat\", \"blog_post\".\"created_at\", \"blog_post\".\"updated_at\", \"blog_post\".\"status\" FROM \"blog_post\" ORDER BY \"blog_post\".\"id\" DESC LIMIT 10',\n",
       " 'time': '0.001'}"
      ]
     },
     "execution_count": 4,
     "metadata": {},
     "output_type": "execute_result"
    }
   ],
   "source": [
    "from django.db import connection\n",
    "connection.queries[-1]"
   ]
  },
  {
   "cell_type": "code",
   "execution_count": 5,
   "metadata": {},
   "outputs": [
    {
     "data": {
      "text/plain": [
       "<QuerySet [<Post: ㄴㅇㅁㄹ>]>"
      ]
     },
     "execution_count": 5,
     "metadata": {},
     "output_type": "execute_result"
    }
   ],
   "source": [
    "Post.objects.all().filter(title__icontains=\"ㄴ\")"
   ]
  },
  {
   "cell_type": "code",
   "execution_count": 6,
   "metadata": {},
   "outputs": [
    {
     "name": "stdout",
     "output_type": "stream",
     "text": [
      "뉴스\n",
      "안녕?\n",
      "ㄴㅇㅁㄹ\n"
     ]
    }
   ],
   "source": [
    "for post in Post.objects.all() :\n",
    "    print(post)"
   ]
  },
  {
   "cell_type": "code",
   "execution_count": 11,
   "metadata": {},
   "outputs": [],
   "source": [
    "\n",
    "from random import choice\n",
    "\n",
    "\n",
    "for i in range(1000) :\n",
    "    status = choice([\"d\", \"p\", \"w\"])\n",
    "    Post.objects.create(author=\"김설화\", title=\"제목 #{}\".format(i), content=\"테스트 내용\", status =status)"
   ]
  },
  {
   "cell_type": "code",
   "execution_count": 12,
   "metadata": {},
   "outputs": [
    {
     "data": {
      "text/plain": [
       "<QuerySet [<Post: 제목 #1>, <Post: 제목 #3>, <Post: 제목 #10>, <Post: 제목 #11>, <Post: 제목 #12>, <Post: 제목 #13>, <Post: 제목 #14>, <Post: 제목 #15>, <Post: 제목 #16>, <Post: 제목 #17>, <Post: 제목 #18>, <Post: 제목 #19>, <Post: 제목 #21>, <Post: 제목 #23>, <Post: 제목 #31>, <Post: 제목 #33>, <Post: 제목 #41>, <Post: 제목 #43>, <Post: 제목 #51>, <Post: 제목 #53>, '...(remaining elements truncated)...']>"
      ]
     },
     "execution_count": 12,
     "metadata": {},
     "output_type": "execute_result"
    }
   ],
   "source": [
    "from django.db.models import Q\n",
    "\n",
    "Post.objects.filter(Q(title__icontains=\"1\") | Q(title__endswith=\"3\"))"
   ]
  },
  {
   "cell_type": "code",
   "execution_count": 15,
   "metadata": {},
   "outputs": [
    {
     "data": {
      "text/plain": [
       "<QuerySet [<Post: 제목 #13>, <Post: 제목 #103>, <Post: 제목 #113>, <Post: 제목 #123>, <Post: 제목 #133>, <Post: 제목 #143>, <Post: 제목 #153>, <Post: 제목 #163>, <Post: 제목 #173>, <Post: 제목 #183>, <Post: 제목 #193>, <Post: 제목 #213>, <Post: 제목 #313>, <Post: 제목 #413>, <Post: 제목 #513>, <Post: 제목 #613>, <Post: 제목 #713>, <Post: 제목 #813>, <Post: 제목 #913>]>"
      ]
     },
     "execution_count": 15,
     "metadata": {},
     "output_type": "execute_result"
    }
   ],
   "source": [
    "# or | and &\n",
    "\n",
    "Post.objects.filter(Q(title__icontains=\"1\") & Q(title__endswith=\"3\"))"
   ]
  },
  {
   "cell_type": "code",
   "execution_count": null,
   "metadata": {
    "collapsed": true
   },
   "outputs": [],
   "source": []
  }
 ],
 "metadata": {
  "kernelspec": {
   "display_name": "Django Shell-Plus",
   "language": "python",
   "name": "django_extensions"
  },
  "language_info": {
   "codemirror_mode": {
    "name": "ipython",
    "version": 3
   },
   "file_extension": ".py",
   "mimetype": "text/x-python",
   "name": "python",
   "nbconvert_exporter": "python",
   "pygments_lexer": "ipython3",
   "version": "3.6.1"
  }
 },
 "nbformat": 4,
 "nbformat_minor": 2
}
